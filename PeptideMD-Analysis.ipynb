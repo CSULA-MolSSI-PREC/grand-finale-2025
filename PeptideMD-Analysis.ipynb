{
 "cells": [
  {
   "cell_type": "markdown",
   "id": "51fce7a0",
   "metadata": {},
   "source": [
    "# Visualization and trajectory analysis of YYY peptide"
   ]
  },
  {
   "cell_type": "markdown",
   "id": "23a02190",
   "metadata": {},
   "source": [
    "## Visualization\n",
    "\n",
    "Before we begin any sort of detailed trajectory analysis, we'll first visualize the trajectory:"
   ]
  },
  {
   "cell_type": "code",
   "execution_count": null,
   "id": "211f52e4",
   "metadata": {},
   "outputs": [],
   "source": [
    "import mdtraj as md\n",
    "import nglview as nv\n",
    "import matplotlib.pyplot as plt\n",
    "import numpy as np\n",
    "from openmm import app\n",
    "#%config InlineBackend.figure_format='retina'"
   ]
  },
  {
   "cell_type": "code",
   "execution_count": null,
   "id": "9e27f650",
   "metadata": {},
   "outputs": [],
   "source": [
    "traj = md.load('YYY_sim.dcd', top='YYY.prmtop') # replace YYYYY with your peptide's name\n",
    "view = nv.show_mdtraj(traj)\n",
    "view.clear_representations()\n",
    "view.add_representation('cartoon', selection='protein', opacity=0.8)\n",
    "view.add_representation('licorice', selection='protein'  )\n",
    "view"
   ]
  },
  {
   "cell_type": "markdown",
   "id": "fc95b4ac",
   "metadata": {},
   "source": [
    "## Trajectory Analysis\n",
    "### End-to-end distance\n",
    "One thing we want to do is calculate the end-to-end distance of the peptide at each frame (or snapshot) of the trajectory. To do this, we need to identify a specific pair of atoms that can serve as the \"ends\" of the molecule. Let's choose the C$_\\alpha$ atoms of the first residue (1) and last residue (5):"
   ]
  },
  {
   "cell_type": "code",
   "execution_count": null,
   "id": "884b0fca",
   "metadata": {},
   "outputs": [],
   "source": [
    "atoms, bonds = traj.topology.to_dataframe()\n",
    "atoms[atoms['name'] == 'CA']"
   ]
  },
  {
   "cell_type": "markdown",
   "id": "f283aba2",
   "metadata": {},
   "source": [
    "Once you have the correct atom indices, insert them into the code below:"
   ]
  },
  {
   "cell_type": "code",
   "execution_count": null,
   "id": "979d2c59",
   "metadata": {},
   "outputs": [],
   "source": [
    "atom_indices = [0,10000] # list of two CA atoms that represent opposite ends of molecule\n",
    "etoe = md.compute_distances(traj, [atom_indices])\n",
    "print(etoe.shape)\n",
    "\n",
    "plt.hist(etoe)\n",
    "plt.xlabel('End-to-end distance (nm)')\n",
    "plt.ylabel('Counts')\n",
    "plt.show()"
   ]
  },
  {
   "cell_type": "markdown",
   "id": "b52123e2",
   "metadata": {},
   "source": [
    "### Solvent-accessible surface area\n",
    "Another quantity that we'll compute is the solvent-accessible surface area (or polar surface area) of the molecule:"
   ]
  },
  {
   "cell_type": "code",
   "execution_count": null,
   "id": "b1dfc02e",
   "metadata": {},
   "outputs": [],
   "source": [
    "sasa = md.shrake_rupley(traj)\n",
    "sasa.shape"
   ]
  },
  {
   "cell_type": "markdown",
   "id": "97487c3d",
   "metadata": {},
   "source": [
    "You might notice that there are *a lot* of columns in these data. This is because the solvent-accessible surface area calculation outputs this quantity for each atom in the molecule. We'll collapse this down into a single number for the entire molecule below:"
   ]
  },
  {
   "cell_type": "code",
   "execution_count": null,
   "id": "52328de5",
   "metadata": {},
   "outputs": [],
   "source": [
    "sasa_whole = sasa.sum(axis=1) # this sums up all the columns in each row of sasa\n",
    "sasa_whole = sasa_whole.reshape((len(sasa), 1))\n",
    "print(sasa_whole.shape)\n",
    "\n",
    "plt.hist(sasa_whole)\n",
    "plt.xlabel('Solvent-accessible surface area (nm$^2$)')\n",
    "plt.show()"
   ]
  },
  {
   "cell_type": "markdown",
   "id": "2b784d8b",
   "metadata": {},
   "source": [
    "### Hydrogen-bond energy\n",
    "We can also compute the hydrogen bond energy between each pair of residues. We are using the Kabsch-Sander equation, which is found in mdtraj and you can read more about here: https://mdtraj.org/1.9.3/api/generated/mdtraj.kabsch_sander.html.\n"
   ]
  },
  {
   "cell_type": "code",
   "execution_count": null,
   "id": "664ce2ab",
   "metadata": {},
   "outputs": [],
   "source": [
    "hb = [x.sum() for x in md.kabsch_sander(traj)]\n",
    "hb = np.array(hb)\n",
    "\n",
    "hb = hb.reshape((len(hb), 1))\n",
    "print(hb.shape)\n",
    "\n",
    "plt.hist(hb)\n",
    "plt.xlabel('Hydrogen bond energy (kcal/mol)')\n",
    "plt.ylabel('Counts')\n",
    "plt.show()"
   ]
  },
  {
   "cell_type": "markdown",
   "id": "339120f8",
   "metadata": {},
   "source": [
    "### Dipole moment magnitude\n",
    "\n",
    "The last thing that we will compute is the magnitude of the overall dipole moment of the molecule. To do this we must: \n",
    "1. Determine the charges on each atom of our peptide\n",
    "2. Determine the positions of each atom at each frame of trajectory\n",
    "3. Multiply atom charges by the atom positions. \n",
    "\n",
    "The following cell will help us get the charges for each atom in our molecule."
   ]
  },
  {
   "cell_type": "code",
   "execution_count": null,
   "id": "8b37770d",
   "metadata": {},
   "outputs": [],
   "source": [
    "from openmm import NonbondedForce\n",
    "\n",
    "prmtop = app.AmberPrmtopFile('YYY.prmtop')\n",
    "system = prmtop.createSystem()\n",
    "\n",
    "nonbonded = [f for f in system.getForces() if isinstance(f, NonbondedForce)][0]\n",
    "charges = []\n",
    "for i in range(system.getNumParticles()):\n",
    "    charge, _, _ = nonbonded.getParticleParameters(i)\n",
    "    charges.append(charge.value_in_unit(charge.unit))"
   ]
  },
  {
   "cell_type": "code",
   "execution_count": null,
   "id": "9835169b",
   "metadata": {},
   "outputs": [],
   "source": [
    "dipole = [np.linalg.norm(x) for x in md.dipole_moments(traj,charges)]\n",
    "dipole = np.array(dipole)\n",
    "dipole = dipole.reshape((len(dipole), 1))\n",
    "dipole.shape"
   ]
  },
  {
   "cell_type": "code",
   "execution_count": null,
   "id": "7e5fd22b",
   "metadata": {},
   "outputs": [],
   "source": [
    "plt.hist(dipole)\n",
    "plt.xlabel('Dipole moment magnitude (nm$\\cdot$e)')\n",
    "plt.show()"
   ]
  },
  {
   "cell_type": "markdown",
   "id": "7201f7dc",
   "metadata": {},
   "source": [
    "You might be interested to see a 2D histogram that takes into account two of these quantities, for instance dipole moment and end-to-end distance:"
   ]
  },
  {
   "cell_type": "code",
   "execution_count": null,
   "id": "9cb3fc9c",
   "metadata": {},
   "outputs": [],
   "source": [
    "plt.figure(figsize=(7.5,6))\n",
    "plt.hist2d(etoe.flatten(), hb.flatten(), bins=(25,25), \n",
    "           cmin=1, cmap='plasma')\n",
    "plt.xlabel('End-to-end distance (nm)')\n",
    "plt.ylabel('Hydrogen bond energy (kcal/mol)')\n",
    "plt.colorbar()\n",
    "plt.show()"
   ]
  },
  {
   "cell_type": "markdown",
   "id": "5465d792",
   "metadata": {},
   "source": [
    "What about the other combinations of variables, for example solvent-accessible surface area vs. hydrogen-bond energy, or end-to-end distance vs. dipole moment?\n",
    "\n",
    "Create a 2D histogram for another combination of the four variables below. To do so, change the first two variables in the `plt.hist2d` function, to the desired variable you'd like to visualize. "
   ]
  },
  {
   "cell_type": "code",
   "execution_count": null,
   "id": "40eab452",
   "metadata": {},
   "outputs": [],
   "source": [
    "plt.figure(figsize=(7.5,6))\n",
    "plt.hist2d(dipole.flatten(), sasa_whole.flatten(), bins=(25,25), \n",
    "           cmin=1, cmap='plasma')\n",
    "plt.xlabel('Dipole moment magnitude (nm$\\cdot$e)')\n",
    "plt.ylabel('Solvent-accessible surface area (nm$^2$)')\n",
    "plt.colorbar()\n",
    "plt.show()"
   ]
  },
  {
   "cell_type": "markdown",
   "id": "cde94c4c",
   "metadata": {},
   "source": [
    "Do you see a big difference between this plot and the one above?"
   ]
  },
  {
   "cell_type": "markdown",
   "id": "a17dac6f",
   "metadata": {},
   "source": [
    "## Clustering the trajectory analysis data\n",
    "\n",
    "One common task is to group all the different structures generated by the simulation into a small number of clusters and then see which characteristics are common to each cluster. In what follows, we'll focus just on clustering the structures from our trajectory using two different algorithms:"
   ]
  },
  {
   "cell_type": "code",
   "execution_count": null,
   "id": "e98c0d14",
   "metadata": {},
   "outputs": [],
   "source": [
    "from sklearn.cluster import KMeans\n",
    "from sklearn.mixture import GaussianMixture\n",
    "from sklearn.preprocessing import minmax_scale\n",
    "\n",
    "X = np.concatenate((etoe, sasa_whole, hb, dipole), axis=1) # construct the input data X\n",
    "X.shape # check that the shape is correct: (n_samples, n_features)"
   ]
  },
  {
   "cell_type": "markdown",
   "id": "29596dbf",
   "metadata": {},
   "source": [
    "As discussed in our previous clustering exercise, it's often good to scale the data if the ranges of the features are very different from each other. In this case, the range of the two features are *not* that different, but let's do the min-max scaling nonetheless:"
   ]
  },
  {
   "cell_type": "code",
   "execution_count": null,
   "id": "52f4a6c6",
   "metadata": {},
   "outputs": [],
   "source": [
    "X2 = minmax_scale(X)\n",
    "X2"
   ]
  },
  {
   "cell_type": "markdown",
   "id": "f9d42b01",
   "metadata": {},
   "source": [
    "As a first pass, we can try the *k*-means algorithm that we used before. We'll start with 3 clusters, but feel free to experiment with more (or fewer):"
   ]
  },
  {
   "cell_type": "code",
   "execution_count": null,
   "id": "b55e73e6",
   "metadata": {},
   "outputs": [],
   "source": [
    "KMclusters = KMeans(n_clusters=3, random_state=1).fit(X2)\n",
    "\n",
    "plt.figure(figsize=(6,6))\n",
    "plt.scatter(etoe, sasa_whole, c=KMclusters.labels_, \n",
    "            cmap='tab10', alpha=0.5)\n",
    "plt.xlabel('Dipole moment magnitude (nm$\\cdot$e)')\n",
    "plt.ylabel('Solvent-accessible surface area (nm$^2$)')\n",
    "plt.show()"
   ]
  },
  {
   "cell_type": "markdown",
   "id": "95a15392",
   "metadata": {},
   "source": [
    "Next, we'll try the Gaussian mixture algorithm... \n",
    "\n",
    "The terminology used for the arguments of the `GaussianMixture()` function is somewhat different than those of the `KMeans()` function. One big difference is that `KMeans()` uses `n_clusters`, whereas `GaussianMixture()` uses `n_components`. Also, in order to generate cluster labels using `GaussianMixture()` we need to use `.fit_predict()` rather than `.fit()`."
   ]
  },
  {
   "cell_type": "code",
   "execution_count": null,
   "id": "575415be",
   "metadata": {},
   "outputs": [],
   "source": [
    "GMclusters = GaussianMixture(n_components=4, random_state=0, n_init=50).fit_predict(X2)\n",
    "\n",
    "plt.figure(figsize=(6,6))\n",
    "plt.scatter(etoe, sasa_whole, c=GMclusters, \n",
    "            cmap='tab10', alpha=0.5)\n",
    "plt.xlabel('End-to-end distance (nm)')\n",
    "plt.ylabel('Solvent-accessible surface area (nm$^2$)')\n",
    "plt.show()"
   ]
  },
  {
   "cell_type": "markdown",
   "id": "3389ae58",
   "metadata": {},
   "source": [
    "What if we want to plot all of the possible (4 choose 2) combinations together? Well the following code block can help us do that."
   ]
  },
  {
   "cell_type": "code",
   "execution_count": null,
   "id": "9127b490",
   "metadata": {},
   "outputs": [],
   "source": [
    "fig, ax = plt.subplots(2, 3, figsize=(18, 12))\n",
    "\n",
    "# Plot the data in each subplot\n",
    "ax[0, 0].scatter(dipole, sasa_whole, c=GMclusters, cmap='tab10', alpha=0.5)\n",
    "ax[0, 0].set_xlabel('Dipole moment magnitude (nm$\\cdot$e)')\n",
    "ax[0, 0].set_ylabel('Solvent-accessible surface area (nm$^2$)')\n",
    "\n",
    "ax[0, 1].scatter(dipole, hb, c=GMclusters, cmap='tab10', alpha=0.5)\n",
    "ax[0, 1].set_xlabel('Dipole moment magnitude (nm$\\cdot$e)')\n",
    "ax[0, 1].set_ylabel('Hydrogen bond energy (kcal/mol)')\n",
    "\n",
    "ax[1, 0].scatter(dipole, etoe, c=GMclusters, cmap='tab10', alpha=0.5)\n",
    "ax[1, 0].set_xlabel('Dipole moment magnitude (nm$\\cdot$e)')\n",
    "ax[1, 0].set_ylabel('End-to-end distance (nm)')\n",
    "\n",
    "ax[1, 1].scatter(hb, sasa_whole, c=GMclusters, cmap='tab10', alpha=0.5)\n",
    "ax[1, 1].set_xlabel('Hydrogen bond energy (kcal/mol)')\n",
    "ax[1, 1].set_ylabel('Solvent-accessible surface area (nm$^2$)')\n",
    "\n",
    "ax[0, 2].scatter(hb, etoe, c=GMclusters, cmap='tab10', alpha=0.5)\n",
    "ax[0, 2].set_xlabel('Hydrogen bond energy (kcal/mol)')\n",
    "ax[0, 2].set_ylabel('End-to-end distance (nm)')\n",
    "\n",
    "ax[1, 2].scatter(etoe, sasa_whole, c=GMclusters, cmap='tab10', alpha=0.5)\n",
    "ax[1, 2].set_xlabel('End-to-end distance (nm)')\n",
    "ax[1, 2].set_ylabel('Solvent-accessible surface area (nm$^2$)')\n",
    "\n",
    "plt.show()"
   ]
  },
  {
   "cell_type": "markdown",
   "id": "e5e490c7",
   "metadata": {},
   "source": [
    "Which graph do you think best separates the data based on the clustering results?"
   ]
  },
  {
   "cell_type": "markdown",
   "id": "998c5d26",
   "metadata": {},
   "source": [
    "## Your turn #1: evaluating the clustering results\n",
    "Clearly the k-means algorithm gives different results from the Gaussian mixture algorithm. Based on the 2D histogram above, which clustering algorithm do you think gives more meaningful results?\n",
    "\n",
    "Use the affinity propagation algorithm to cluster the datapoints. Visualize your results.\n",
    "\n",
    "1. Did the number of clusters change with this approach? \n",
    "2. Peform the affinity propagation algorithm with only two variables of your choosing, how does this change the results?\n"
   ]
  },
  {
   "cell_type": "code",
   "execution_count": null,
   "id": "1fc7b65d",
   "metadata": {},
   "outputs": [],
   "source": []
  },
  {
   "cell_type": "code",
   "execution_count": null,
   "id": "4ee05cbf",
   "metadata": {},
   "outputs": [],
   "source": []
  },
  {
   "cell_type": "code",
   "execution_count": null,
   "id": "5d7f25f1",
   "metadata": {},
   "outputs": [],
   "source": []
  },
  {
   "cell_type": "markdown",
   "id": "9ddf09ac",
   "metadata": {},
   "source": [
    "## Your turn #2 (advanced): linear regression of radius of gyration\n",
    "\n",
    "The radius of gyration is measure of how spread out the atoms of a peptide are around its center of mass. We can compute this value at each step of our trajectory. Take a look at the documentation for the `compute_rg()` included within `mdtraj`: https://www.mdtraj.org/1.9.8.dev0/api/generated/mdtraj.compute_rg.html a linear regression using the aforementioned variables to fit to the radius of gyration. \n",
    "\n",
    "1. Compute the radius of gyration (e.g., `rg = md.compute_rg(...data here...)`).\n",
    "2. Reshape the radius of gyration list, similar to what was done for the dipole list.\n",
    "3. Import the `LinearRegression` model and perform a fit linear model of `X` to `rg` target values.\n",
    "4. Print the regression coefficients and y-intercept. \n",
    "5. Use your model to predict your radius of gyration values from your data, `X`. \n",
    "6. Visualize the performance of your model by plotting the \"measured\" vs \"computed\" radius of gyration.\n",
    "7. Which of the variables is most important in predicting the radius of gyration?"
   ]
  },
  {
   "cell_type": "code",
   "execution_count": null,
   "id": "d10847d8",
   "metadata": {},
   "outputs": [],
   "source": []
  },
  {
   "cell_type": "code",
   "execution_count": null,
   "id": "65e604e5",
   "metadata": {},
   "outputs": [],
   "source": []
  },
  {
   "cell_type": "code",
   "execution_count": null,
   "id": "dc8497b6",
   "metadata": {},
   "outputs": [],
   "source": []
  },
  {
   "cell_type": "markdown",
   "id": "843f381c",
   "metadata": {},
   "source": [
    "## Your turn #3: repeat this exercise for a different peptide\n",
    "\n",
    "Make a copy of this notebook and repeat the MD simulation and analysis for a different peptide. How do data differ for this peptide? How does this affect the clustering and linear regression algorithms? \n"
   ]
  },
  {
   "cell_type": "code",
   "execution_count": null,
   "id": "17071ecc",
   "metadata": {},
   "outputs": [],
   "source": []
  },
  {
   "cell_type": "code",
   "execution_count": null,
   "id": "3094b087",
   "metadata": {},
   "outputs": [],
   "source": []
  },
  {
   "cell_type": "code",
   "execution_count": null,
   "id": "19644f18",
   "metadata": {},
   "outputs": [],
   "source": []
  },
  {
   "cell_type": "code",
   "execution_count": null,
   "id": "41a535cd",
   "metadata": {},
   "outputs": [],
   "source": []
  }
 ],
 "metadata": {
  "kernelspec": {
   "display_name": "Python 3 (ipykernel)",
   "language": "python",
   "name": "python3"
  },
  "language_info": {
   "codemirror_mode": {
    "name": "ipython",
    "version": 3
   },
   "file_extension": ".py",
   "mimetype": "text/x-python",
   "name": "python",
   "nbconvert_exporter": "python",
   "pygments_lexer": "ipython3",
   "version": "3.9.7"
  }
 },
 "nbformat": 4,
 "nbformat_minor": 5
}
