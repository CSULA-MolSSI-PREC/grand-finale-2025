{
 "cells": [
  {
   "cell_type": "markdown",
   "id": "51fce7a0",
   "metadata": {},
   "source": [
    "# MD simulation of YYY peptide\n",
    "\n",
    "Let's run a MD simulation of your peptide! Just like before, you'll load in the force field parameters, initial coordinates (3D structure), and topology. Then you'll subject this system to energy minimization, followed by a short equilibration simulation and a longer production simulation (for calculating statistics)."
   ]
  },
  {
   "cell_type": "code",
   "execution_count": null,
   "id": "211f52e4",
   "metadata": {},
   "outputs": [],
   "source": [
    "from openmm import app\n",
    "import openmm as mm\n",
    "from simtk import unit\n",
    "from sys import stdout\n",
    "import time as time"
   ]
  },
  {
   "cell_type": "code",
   "execution_count": null,
   "id": "9e27f650",
   "metadata": {},
   "outputs": [],
   "source": [
    "# read in files\n",
    "prmtop = app.AmberPrmtopFile('YYY.prmtop') # change XXX to your peptide's name\n",
    "inpcrd = app.AmberInpcrdFile('YYY.inpcrd') # same here!"
   ]
  },
  {
   "cell_type": "markdown",
   "id": "fc95b4ac",
   "metadata": {},
   "source": [
    "The code below sets up our system for simulation. Notice that the improved Generalized Born implicit solvent model is used instead of explicitly solvating molecule. This should speed up our computation."
   ]
  },
  {
   "cell_type": "code",
   "execution_count": null,
   "id": "884b0fca",
   "metadata": {},
   "outputs": [],
   "source": [
    "# OpenMM setup\n",
    "system = prmtop.createSystem(nonbondedMethod=app.NoCutoff, constraints=app.HBonds, implicitSolvent=app.GBn2)\n",
    "temperature = 298.15*unit.kelvin\n",
    "integrator = mm.LangevinIntegrator(temperature, 1/unit.picosecond, 2*unit.femtoseconds)\n",
    "platform = mm.Platform.getPlatformByName('CUDA')\n",
    "simulation = app.Simulation(prmtop.topology, system, integrator, platform)\n",
    "simulation.context.setPositions(inpcrd.positions)"
   ]
  },
  {
   "cell_type": "markdown",
   "id": "f283aba2",
   "metadata": {},
   "source": [
    "Next we can subject the system to 100 steps of energy minimization. "
   ]
  },
  {
   "cell_type": "code",
   "execution_count": null,
   "id": "979d2c59",
   "metadata": {},
   "outputs": [],
   "source": [
    "# minimization\n",
    "st = simulation.context.getState(getPositions=True,getEnergy=True)\n",
    "print(\"Potential energy before minimization is %s\" % st.getPotentialEnergy())\n",
    "\n",
    "print('Minimizing...')\n",
    "simulation.minimizeEnergy(maxIterations=100)\n",
    "\n",
    "st = simulation.context.getState(getPositions=True,getEnergy=True)\n",
    "print(\"Potential energy after minimization is %s\" % st.getPotentialEnergy())"
   ]
  },
  {
   "cell_type": "markdown",
   "id": "b52123e2",
   "metadata": {},
   "source": [
    "After energy minimization, we can run a short equilibration simulation."
   ]
  },
  {
   "cell_type": "code",
   "execution_count": null,
   "id": "90b9dab2",
   "metadata": {},
   "outputs": [],
   "source": [
    "# equilibration\n",
    "simulation.context.setVelocitiesToTemperature(298.15*unit.kelvin)\n",
    "print('Equilibrating...')\n",
    "tinit=time.time()\n",
    "simulation.step(50000)\n",
    "tfinal=time.time()\n",
    "print('Done!')\n",
    "print('Time required for simulation:', tfinal-tinit, 'seconds')"
   ]
  },
  {
   "cell_type": "markdown",
   "id": "d505a90f",
   "metadata": {},
   "source": [
    "Finally, let's run the production simulation. Note that we write the atomic coordinates out to a **trajectory file** (in this case: `YYY_sim.dcd`) every 500 time steps. We don't do this every simulation step because otherwise the file size would become prohibitively large.\n",
    "\n",
    "Make sure to change the `YYY` to your peptide."
   ]
  },
  {
   "cell_type": "code",
   "execution_count": null,
   "id": "c57c0db9",
   "metadata": {},
   "outputs": [],
   "source": [
    "# production\n",
    "simulation.reporters.append(app.DCDReporter('YYY_sim.dcd', 500)) # change YYY to your peptide's name\n",
    "simulation.reporters.append(app.StateDataReporter(stdout, 50000, step=True, time=True,\n",
    "    potentialEnergy=True, temperature=True, speed=True, separator='\\t'))"
   ]
  },
  {
   "cell_type": "code",
   "execution_count": null,
   "id": "c061718b",
   "metadata": {},
   "outputs": [],
   "source": [
    "print('Running Production...')\n",
    "simulation.step(500000) \n",
    "print('Done!')"
   ]
  }
 ],
 "metadata": {
  "kernelspec": {
   "display_name": "Python 3 (ipykernel)",
   "language": "python",
   "name": "python3"
  },
  "language_info": {
   "codemirror_mode": {
    "name": "ipython",
    "version": 3
   },
   "file_extension": ".py",
   "mimetype": "text/x-python",
   "name": "python",
   "nbconvert_exporter": "python",
   "pygments_lexer": "ipython3",
   "version": "3.9.7"
  }
 },
 "nbformat": 4,
 "nbformat_minor": 5
}
